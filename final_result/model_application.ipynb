{
  "nbformat": 4,
  "nbformat_minor": 0,
  "metadata": {
    "colab": {
      "name": "model_application",
      "provenance": [],
      "collapsed_sections": [],
      "toc_visible": true
    },
    "kernelspec": {
      "name": "python3",
      "display_name": "Python 3"
    }
  },
  "cells": [
    {
      "cell_type": "markdown",
      "metadata": {
        "id": "HbjgutrbFmmE"
      },
      "source": [
        "# **Intro**"
      ]
    },
    {
      "cell_type": "code",
      "metadata": {
        "id": "0g3WZWZ1M4xF"
      },
      "source": [
        "# Importing general library\n",
        "\n",
        "import os\n",
        "import random\n",
        "import pickle\n",
        "import warnings\n",
        "import numpy as np\n",
        "import pandas as pd\n",
        "import tensorflow as tf\n",
        "import matplotlib.pyplot as plt\n",
        "from datetime import datetime"
      ],
      "execution_count": null,
      "outputs": []
    },
    {
      "cell_type": "markdown",
      "metadata": {
        "id": "r0FUooKLNHXD"
      },
      "source": [
        "# **Functions**"
      ]
    },
    {
      "cell_type": "code",
      "metadata": {
        "id": "q23H-stBC7Fq"
      },
      "source": [
        "# Reset random seed\n",
        "\n",
        "def reset_random_seeds(seed_value=1):\n",
        "   os.environ['PYTHONHASHSEED']=str(seed_value)\n",
        "   tf.random.set_seed(seed_value)\n",
        "   np.random.seed(seed_value)\n",
        "   random.seed(seed_value)"
      ],
      "execution_count": null,
      "outputs": []
    },
    {
      "cell_type": "code",
      "metadata": {
        "id": "flztV8Zm-a7M"
      },
      "source": [
        "# Date-time Parsing\n",
        "\n",
        "def parser(x):\n",
        "\treturn datetime.strptime(x, '%Y-%m-%d')"
      ],
      "execution_count": null,
      "outputs": []
    },
    {
      "cell_type": "code",
      "metadata": {
        "id": "pGe7WKq_EDxB"
      },
      "source": [
        "# Inverse scaling function\n",
        "\n",
        "def inverse_scaling(series, scaler):\n",
        "  temp = np.zeros((len(series), 5))\n",
        "  temp[:, -1] = series.reshape(len(series))\n",
        "  temp = scaler.inverse_transform(temp)\n",
        "  inverted = temp[:, -1]\n",
        "  return inverted"
      ],
      "execution_count": null,
      "outputs": []
    },
    {
      "cell_type": "code",
      "metadata": {
        "id": "bjOH3UaYgY9b"
      },
      "source": [
        "# Differencing\n",
        "\n",
        "def difference(data, times=1):\n",
        "  data_diff = data.diff()\n",
        "  data_diff.dropna(inplace=True)\n",
        "  if times == 0:\n",
        "    return data\n",
        "  elif times == 1:\n",
        "    return data_diff\n",
        "  else:\n",
        "    for i in range(0,times-1):\n",
        "      data_diff = data_diff.diff()\n",
        "      data_diff.dropna(inplace=True)\n",
        "    return data_diff"
      ],
      "execution_count": null,
      "outputs": []
    },
    {
      "cell_type": "code",
      "metadata": {
        "id": "kMDI41TjzbOd"
      },
      "source": [
        "# Inverse difference\n",
        "\n",
        "def inverse_difference(series, differenced, times_diff):\n",
        "  for n in range(1,times_diff+1):\n",
        "    inverted = list()\n",
        "    seed = difference(series,times_diff-n)[-1]\n",
        "    inverted.append(seed)\n",
        "    for i in range(len(differenced)):\n",
        "\t    value = inverted[i] + differenced[i]\n",
        "\t    inverted.append(value)\n",
        "    differenced = pd.Series(inverted[1:].copy())\n",
        "  inverted_difference = differenced.copy()\n",
        "  return inverted_difference"
      ],
      "execution_count": null,
      "outputs": []
    },
    {
      "cell_type": "markdown",
      "metadata": {
        "id": "4-3DPGkhs3n6"
      },
      "source": [
        "# **Load files**"
      ]
    },
    {
      "cell_type": "code",
      "metadata": {
        "id": "KZb83hfMP-xd"
      },
      "source": [
        "# Title\n",
        "title = \"Thailand Covid-19 Confirmed Cases\"\n",
        "\n",
        "# Load dataset\n",
        "data_path = '/content/thailand_covid_19_confirmed_cases.csv'\n",
        "dataset = pd.read_csv(data_path, date_parser=parser, parse_dates=[0])\n",
        "# Replace index with datetime\n",
        "dataset = dataset.set_index('Date')\n",
        "# Change from dataframe to series\n",
        "dataset = pd.Series(dataset.values.flatten(), index=dataset.index)\n",
        "\n",
        "# Load supervised values\n",
        "supervised_values_path = '/content/thailand_covid_19_confirmed_cases_supervised_values.csv'\n",
        "supervised_dataframe = pd.read_csv(supervised_values_path, date_parser=parser, parse_dates=[0])\n",
        "# Replace index with datetime\n",
        "supervised_dataframe = supervised_dataframe.set_index('Date')\n",
        "# Get values\n",
        "supervised_values = supervised_dataframe.values\n",
        "\n",
        "# Load scaler\n",
        "scaler_path = '/content/thailand-covid-19-confirmed-cases-scaler.pkl'\n",
        "scaler = pickle.load(open(scaler_path, 'rb'))\n",
        "\n",
        "# Load model\n",
        "model_path = '/content/thailand-covid-19-confirmed-cases-model.h5'\n",
        "model = tf.keras.models.load_model(model_path)"
      ],
      "execution_count": null,
      "outputs": []
    },
    {
      "cell_type": "markdown",
      "metadata": {
        "id": "YJ4pxRwplv_6"
      },
      "source": [
        "# **Input**"
      ]
    },
    {
      "cell_type": "code",
      "metadata": {
        "id": "s2PhiJ7fl730"
      },
      "source": [
        "# Input date\n",
        "\n",
        "start_date = '2020-02-01'\n",
        "end_date = '2020-08-30'"
      ],
      "execution_count": null,
      "outputs": []
    },
    {
      "cell_type": "markdown",
      "metadata": {
        "id": "9X17gQuWmDud"
      },
      "source": [
        "# **Process**"
      ]
    },
    {
      "cell_type": "code",
      "metadata": {
        "id": "HpcDrKsUmGKe"
      },
      "source": [
        "# Convert input to datetime object\n",
        "\n",
        "start_date = datetime.strptime(start_date, '%Y-%m-%d')\n",
        "end_date = datetime.strptime(end_date, '%Y-%m-%d')"
      ],
      "execution_count": null,
      "outputs": []
    },
    {
      "cell_type": "code",
      "metadata": {
        "id": "6VxKi59pmWf_"
      },
      "source": [
        "# Limit (last date from dataset)\n",
        "\n",
        "limit_date = datetime(2020,7,28)"
      ],
      "execution_count": null,
      "outputs": []
    },
    {
      "cell_type": "code",
      "metadata": {
        "id": "VkMLGjyjmmBd",
        "outputId": "3f6eee5d-c62d-4564-ee0e-5a92c1bdb1de",
        "colab": {
          "base_uri": "https://localhost:8080/",
          "height": 34
        }
      },
      "source": [
        "# Check available date\n",
        "\n",
        "out_of_range = False\n",
        "if start_date >= limit_date:\n",
        "  print(\"Your request is out of range, we will predict some data for you!\")\n",
        "  out_of_range = True\n",
        "else:\n",
        "  desired_dates = pd.date_range(start_date,end_date)\n",
        "  for desired_date in desired_dates:\n",
        "    if desired_date >= limit_date:\n",
        "      print(\"Your request is out of range, we will predict some data for you!\")\n",
        "      out_of_range = True\n",
        "      break"
      ],
      "execution_count": null,
      "outputs": [
        {
          "output_type": "stream",
          "text": [
            "Your request is out of range, we will predict some data for you!\n"
          ],
          "name": "stdout"
        }
      ]
    },
    {
      "cell_type": "markdown",
      "metadata": {
        "id": "_zLJB-u2UuG4"
      },
      "source": [
        "## **Forecasting (if needed)**"
      ]
    },
    {
      "cell_type": "code",
      "metadata": {
        "id": "8Qtdmj75npof"
      },
      "source": [
        "if out_of_range:\n",
        "  # Scaling\n",
        "  devide_border = int(0.8*(len(supervised_values)))\n",
        "  supervised_values_head = supervised_values[:devide_border]\n",
        "  supervised_values_tail = supervised_values[devide_border:]\n",
        "  supervised_values_head = scaler.transform(supervised_values_head)\n",
        "  supervised_values_tail = scaler.transform(supervised_values_tail)\n",
        "  supervised_values_scaled = np.append(supervised_values_head, supervised_values_tail, axis=0)\n",
        "\n",
        "  # Feature-label split\n",
        "  feature, label = supervised_values_scaled[:, 0:-1], supervised_values_scaled[:, -1]\n",
        "\n",
        "  # Feature reshape\n",
        "  feature_reshaped = np.reshape(feature, (feature.shape[0], 2, 2, 1))\n",
        "\n",
        "  # Make feature and label history\n",
        "  feature_history = feature_reshaped\n",
        "  label_history = label"
      ],
      "execution_count": null,
      "outputs": []
    },
    {
      "cell_type": "code",
      "metadata": {
        "id": "qQ-l9-Xp2wsy"
      },
      "source": [
        "# Rolling predict\n",
        "\n",
        "if out_of_range:\n",
        "  predictions = np.array([])\n",
        "  n = len(pd.date_range(limit_date,end_date))\n",
        "  for i in range(n+1):\n",
        "    # Train after first iteration\n",
        "    if i > 0:\n",
        "      reset_random_seeds()\n",
        "      model.fit(feature_history, label_history, epochs=10, verbose=0)\n",
        "    # Forecasting\n",
        "    forecast = model.predict(np.array([feature_history[-1]]), verbose=0)\n",
        "    # Append result to feature history for re-train\n",
        "    temp = np.append(feature_history[-1].flatten()[1:], label_history[-1]).reshape((1,2,2,1))\n",
        "    feature_history = np.append(feature_history, temp, axis=0)\n",
        "    # Append result to label history for re-train\n",
        "    label_history = np.append(label_history, forecast)\n",
        "    # Collect predictions\n",
        "    predictions = np.append(predictions, forecast)\n",
        "  predictions = predictions[1:]"
      ],
      "execution_count": null,
      "outputs": []
    },
    {
      "cell_type": "code",
      "metadata": {
        "id": "CO-LX9YEQx5I"
      },
      "source": [
        "# Inverse predictions to original values\n",
        "\n",
        "if out_of_range:\n",
        "  # Inverse scaling\n",
        "  predictions = inverse_scaling(predictions, scaler)\n",
        "  # Inverse difference\n",
        "  predictions = inverse_difference(dataset, predictions, 2)\n",
        "  # Index = datetime\n",
        "  predictions.index = pd.date_range(limit_date,end_date)"
      ],
      "execution_count": null,
      "outputs": []
    },
    {
      "cell_type": "markdown",
      "metadata": {
        "id": "C1fKVcKJRpvm"
      },
      "source": [
        "# **Output**"
      ]
    },
    {
      "cell_type": "code",
      "metadata": {
        "id": "DtVCtGX0GUer",
        "outputId": "eed5f4e9-79be-41d7-8f46-96d559dad225",
        "colab": {
          "base_uri": "https://localhost:8080/",
          "height": 307
        }
      },
      "source": [
        "# Show predictions plot\n",
        "\n",
        "if out_of_range:\n",
        "  if start_date >= limit_date:\n",
        "    # Get data\n",
        "    desired_data = predictions[start_date:]\n",
        "    # Plot\n",
        "    predictions[start_date:].plot(label='Predictions', c='tab:orange')\n",
        "  else:\n",
        "    # Get data\n",
        "    desired_data = dataset[start_date:].append(predictions)\n",
        "    # Plot\n",
        "    bridge_index = [dataset.index[-1],predictions.index[0]]\n",
        "    bridge = pd.Series([dataset[-1],predictions[0]], index=bridge_index)\n",
        "    dataset[start_date:].plot(label='Existing data', c='tab:blue')\n",
        "    bridge.plot(label='Bridge', ls='--',c='tab:orange')\n",
        "    predictions.plot(label='Predictions', c='tab:orange')\n",
        "else:\n",
        "  # Get data\n",
        "  desired_data = dataset[start_date:end_date]\n",
        "  # Plot\n",
        "  dataset[start_date:end_date].plot(label='Existing data', c='tab:blue')\n",
        "plt.legend(bbox_to_anchor=(1.05, 1), loc='upper left')\n",
        "plt.title(title)\n",
        "plt.grid(True)\n",
        "plt.show()"
      ],
      "execution_count": null,
      "outputs": [
        {
          "output_type": "display_data",
          "data": {
            "image/png": "[encoded data removed]",
            "text/plain": [
              "<Figure size 432x288 with 1 Axes>"
            ]
          },
          "metadata": {
            "tags": [],
            "needs_background": "light"
          }
        }
      ]
    },
    {
      "cell_type": "code",
      "metadata": {
        "id": "4nS0hKZrNVkh",
        "outputId": "f431b0c0-5559-49f4-83cf-c9929a2fad21",
        "colab": {
          "base_uri": "https://localhost:8080/",
          "height": 221
        }
      },
      "source": [
        "# pd.set_option('display.max_rows', None)\n",
        "desired_data\n",
        "# pd.reset_option('all')"
      ],
      "execution_count": null,
      "outputs": [
        {
          "output_type": "execute_result",
          "data": {
            "text/plain": [
              "2020-02-01      19.000000\n",
              "2020-02-02      19.000000\n",
              "2020-02-03      19.000000\n",
              "2020-02-04      25.000000\n",
              "2020-02-05      25.000000\n",
              "                 ...     \n",
              "2020-08-26    3504.418575\n",
              "2020-08-27    3511.755048\n",
              "2020-08-28    3513.716564\n",
              "2020-08-29    3517.438572\n",
              "2020-08-30    3523.319014\n",
              "Length: 212, dtype: float64"
            ]
          },
          "metadata": {
            "tags": []
          },
          "execution_count": 249
        }
      ]
    }
  ]
}