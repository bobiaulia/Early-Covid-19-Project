{
  "nbformat": 4,
  "nbformat_minor": 0,
  "metadata": {
    "colab": {
      "name": "original_dataset_query",
      "provenance": [],
      "collapsed_sections": [],
      "toc_visible": true
    },
    "kernelspec": {
      "name": "python3",
      "display_name": "Python 3"
    }
  },
  "cells": [
    {
      "cell_type": "markdown",
      "metadata": {
        "id": "dQEkvPy5emBk"
      },
      "source": [
        "# **Intro**"
      ]
    },
    {
      "cell_type": "code",
      "metadata": {
        "id": "0g3WZWZ1M4xF"
      },
      "source": [
        "# Importing library\n",
        "\n",
        "import os\n",
        "import matplotlib.pyplot as plt\n",
        "import numpy as np\n",
        "import pandas as pd\n",
        "import tensorflow as tf\n",
        "import random\n",
        "from datetime import datetime, date"
      ],
      "execution_count": null,
      "outputs": []
    },
    {
      "cell_type": "markdown",
      "metadata": {
        "id": "r0FUooKLNHXD"
      },
      "source": [
        "# **Functions**"
      ]
    },
    {
      "cell_type": "code",
      "metadata": {
        "id": "flztV8Zm-a7M"
      },
      "source": [
        "# Date-time Parsing\n",
        "\n",
        "def parser(x):\n",
        "\treturn datetime.strptime(x, '%Y-%m-%d')"
      ],
      "execution_count": null,
      "outputs": []
    },
    {
      "cell_type": "markdown",
      "metadata": {
        "id": "doTUeA3COdBr"
      },
      "source": [
        "# **Load Dataset**"
      ]
    },
    {
      "cell_type": "code",
      "metadata": {
        "id": "KZb83hfMP-xd"
      },
      "source": [
        "# Load dataset\n",
        "\n",
        "path = 'drive/My Drive/Final_project/Dataset/covid_19_clean_complete.csv'\n",
        "dataset = pd.read_csv(path, date_parser=parser, parse_dates=[4])\n",
        "dataset = dataset.rename(columns={\"Country/Region\": \"Country_Reg\", \"Province/State\":\"Prov_State\"})"
      ],
      "execution_count": null,
      "outputs": []
    },
    {
      "cell_type": "code",
      "metadata": {
        "id": "H5w-_nrxP-xp",
        "outputId": "b1012db4-5590-4387-c197-49726d532e01",
        "colab": {
          "base_uri": "https://localhost:8080/",
          "height": 204
        }
      },
      "source": [
        "dataset.head()"
      ],
      "execution_count": null,
      "outputs": [
        {
          "output_type": "execute_result",
          "data": {
            "text/html": [
              "<div>\n",
              "<style scoped>\n",
              "    .dataframe tbody tr th:only-of-type {\n",
              "        vertical-align: middle;\n",
              "    }\n",
              "\n",
              "    .dataframe tbody tr th {\n",
              "        vertical-align: top;\n",
              "    }\n",
              "\n",
              "    .dataframe thead th {\n",
              "        text-align: right;\n",
              "    }\n",
              "</style>\n",
              "<table border=\"1\" class=\"dataframe\">\n",
              "  <thead>\n",
              "    <tr style=\"text-align: right;\">\n",
              "      <th></th>\n",
              "      <th>Prov_State</th>\n",
              "      <th>Country_Reg</th>\n",
              "      <th>Lat</th>\n",
              "      <th>Long</th>\n",
              "      <th>Date</th>\n",
              "      <th>Confirmed</th>\n",
              "      <th>Deaths</th>\n",
              "      <th>Recovered</th>\n",
              "      <th>Active</th>\n",
              "      <th>WHO Region</th>\n",
              "    </tr>\n",
              "  </thead>\n",
              "  <tbody>\n",
              "    <tr>\n",
              "      <th>0</th>\n",
              "      <td>NaN</td>\n",
              "      <td>Afghanistan</td>\n",
              "      <td>33.93911</td>\n",
              "      <td>67.709953</td>\n",
              "      <td>2020-01-22</td>\n",
              "      <td>0</td>\n",
              "      <td>0</td>\n",
              "      <td>0</td>\n",
              "      <td>0</td>\n",
              "      <td>Eastern Mediterranean</td>\n",
              "    </tr>\n",
              "    <tr>\n",
              "      <th>1</th>\n",
              "      <td>NaN</td>\n",
              "      <td>Albania</td>\n",
              "      <td>41.15330</td>\n",
              "      <td>20.168300</td>\n",
              "      <td>2020-01-22</td>\n",
              "      <td>0</td>\n",
              "      <td>0</td>\n",
              "      <td>0</td>\n",
              "      <td>0</td>\n",
              "      <td>Europe</td>\n",
              "    </tr>\n",
              "    <tr>\n",
              "      <th>2</th>\n",
              "      <td>NaN</td>\n",
              "      <td>Algeria</td>\n",
              "      <td>28.03390</td>\n",
              "      <td>1.659600</td>\n",
              "      <td>2020-01-22</td>\n",
              "      <td>0</td>\n",
              "      <td>0</td>\n",
              "      <td>0</td>\n",
              "      <td>0</td>\n",
              "      <td>Africa</td>\n",
              "    </tr>\n",
              "    <tr>\n",
              "      <th>3</th>\n",
              "      <td>NaN</td>\n",
              "      <td>Andorra</td>\n",
              "      <td>42.50630</td>\n",
              "      <td>1.521800</td>\n",
              "      <td>2020-01-22</td>\n",
              "      <td>0</td>\n",
              "      <td>0</td>\n",
              "      <td>0</td>\n",
              "      <td>0</td>\n",
              "      <td>Europe</td>\n",
              "    </tr>\n",
              "    <tr>\n",
              "      <th>4</th>\n",
              "      <td>NaN</td>\n",
              "      <td>Angola</td>\n",
              "      <td>-11.20270</td>\n",
              "      <td>17.873900</td>\n",
              "      <td>2020-01-22</td>\n",
              "      <td>0</td>\n",
              "      <td>0</td>\n",
              "      <td>0</td>\n",
              "      <td>0</td>\n",
              "      <td>Africa</td>\n",
              "    </tr>\n",
              "  </tbody>\n",
              "</table>\n",
              "</div>"
            ],
            "text/plain": [
              "  Prov_State  Country_Reg       Lat  ...  Recovered Active             WHO Region\n",
              "0        NaN  Afghanistan  33.93911  ...          0      0  Eastern Mediterranean\n",
              "1        NaN      Albania  41.15330  ...          0      0                 Europe\n",
              "2        NaN      Algeria  28.03390  ...          0      0                 Africa\n",
              "3        NaN      Andorra  42.50630  ...          0      0                 Europe\n",
              "4        NaN       Angola -11.20270  ...          0      0                 Africa\n",
              "\n",
              "[5 rows x 10 columns]"
            ]
          },
          "metadata": {
            "tags": []
          },
          "execution_count": 12
        }
      ]
    },
    {
      "cell_type": "code",
      "metadata": {
        "id": "XLlJa2tKP-xw",
        "outputId": "d3f59b4e-1d0b-4d58-bc15-525fa53d0cb0",
        "colab": {
          "base_uri": "https://localhost:8080/",
          "height": 306
        }
      },
      "source": [
        "dataset.info()"
      ],
      "execution_count": null,
      "outputs": [
        {
          "output_type": "stream",
          "text": [
            "<class 'pandas.core.frame.DataFrame'>\n",
            "RangeIndex: 49068 entries, 0 to 49067\n",
            "Data columns (total 10 columns):\n",
            " #   Column       Non-Null Count  Dtype         \n",
            "---  ------       --------------  -----         \n",
            " 0   Prov_State   14664 non-null  object        \n",
            " 1   Country_Reg  49068 non-null  object        \n",
            " 2   Lat          49068 non-null  float64       \n",
            " 3   Long         49068 non-null  float64       \n",
            " 4   Date         49068 non-null  datetime64[ns]\n",
            " 5   Confirmed    49068 non-null  int64         \n",
            " 6   Deaths       49068 non-null  int64         \n",
            " 7   Recovered    49068 non-null  int64         \n",
            " 8   Active       49068 non-null  int64         \n",
            " 9   WHO Region   49068 non-null  object        \n",
            "dtypes: datetime64[ns](1), float64(2), int64(4), object(3)\n",
            "memory usage: 3.7+ MB\n"
          ],
          "name": "stdout"
        }
      ]
    },
    {
      "cell_type": "code",
      "metadata": {
        "id": "iYxdHAH7BujL",
        "outputId": "91b70592-557b-4922-86ee-ba6f33971c10",
        "colab": {
          "base_uri": "https://localhost:8080/",
          "height": 680
        }
      },
      "source": [
        "# Check all countries and regions\n",
        "\n",
        "dataset['Country_Reg'].unique()"
      ],
      "execution_count": null,
      "outputs": [
        {
          "output_type": "execute_result",
          "data": {
            "text/plain": [
              "array(['Afghanistan', 'Albania', 'Algeria', 'Andorra', 'Angola',\n",
              "       'Antigua and Barbuda', 'Argentina', 'Armenia', 'Australia',\n",
              "       'Austria', 'Azerbaijan', 'Bahamas', 'Bahrain', 'Bangladesh',\n",
              "       'Barbados', 'Belarus', 'Belgium', 'Benin', 'Bhutan', 'Bolivia',\n",
              "       'Bosnia and Herzegovina', 'Brazil', 'Brunei', 'Bulgaria',\n",
              "       'Burkina Faso', 'Cabo Verde', 'Cambodia', 'Cameroon', 'Canada',\n",
              "       'Central African Republic', 'Chad', 'Chile', 'China', 'Colombia',\n",
              "       'Congo (Brazzaville)', 'Congo (Kinshasa)', 'Costa Rica',\n",
              "       \"Cote d'Ivoire\", 'Croatia', 'Cuba', 'Cyprus', 'Czechia', 'Denmark',\n",
              "       'Greenland', 'Djibouti', 'Dominican Republic', 'Ecuador', 'Egypt',\n",
              "       'El Salvador', 'Equatorial Guinea', 'Eritrea', 'Estonia',\n",
              "       'Eswatini', 'Ethiopia', 'Fiji', 'Finland', 'France', 'Gabon',\n",
              "       'Gambia', 'Georgia', 'Germany', 'Ghana', 'Greece', 'Guatemala',\n",
              "       'Guinea', 'Guyana', 'Haiti', 'Holy See', 'Honduras', 'Hungary',\n",
              "       'Iceland', 'India', 'Indonesia', 'Iran', 'Iraq', 'Ireland',\n",
              "       'Israel', 'Italy', 'Jamaica', 'Japan', 'Jordan', 'Kazakhstan',\n",
              "       'Kenya', 'South Korea', 'Kuwait', 'Kyrgyzstan', 'Latvia',\n",
              "       'Lebanon', 'Liberia', 'Liechtenstein', 'Lithuania', 'Luxembourg',\n",
              "       'Madagascar', 'Malaysia', 'Maldives', 'Malta', 'Mauritania',\n",
              "       'Mauritius', 'Mexico', 'Moldova', 'Monaco', 'Mongolia',\n",
              "       'Montenegro', 'Morocco', 'Namibia', 'Nepal', 'Netherlands',\n",
              "       'New Zealand', 'Nicaragua', 'Niger', 'Nigeria', 'North Macedonia',\n",
              "       'Norway', 'Oman', 'Pakistan', 'Panama', 'Papua New Guinea',\n",
              "       'Paraguay', 'Peru', 'Philippines', 'Poland', 'Portugal', 'Qatar',\n",
              "       'Romania', 'Russia', 'Rwanda', 'Saint Lucia',\n",
              "       'Saint Vincent and the Grenadines', 'San Marino', 'Saudi Arabia',\n",
              "       'Senegal', 'Serbia', 'Seychelles', 'Singapore', 'Slovakia',\n",
              "       'Slovenia', 'Somalia', 'South Africa', 'Spain', 'Sri Lanka',\n",
              "       'Sudan', 'Suriname', 'Sweden', 'Switzerland', 'Taiwan*',\n",
              "       'Tanzania', 'Thailand', 'Togo', 'Trinidad and Tobago', 'Tunisia',\n",
              "       'Turkey', 'Uganda', 'Ukraine', 'United Arab Emirates',\n",
              "       'United Kingdom', 'Uruguay', 'US', 'Uzbekistan', 'Venezuela',\n",
              "       'Vietnam', 'Zambia', 'Zimbabwe', 'Dominica', 'Grenada',\n",
              "       'Mozambique', 'Syria', 'Timor-Leste', 'Belize', 'Laos', 'Libya',\n",
              "       'West Bank and Gaza', 'Guinea-Bissau', 'Mali',\n",
              "       'Saint Kitts and Nevis', 'Kosovo', 'Burma', 'Botswana', 'Burundi',\n",
              "       'Sierra Leone', 'Malawi', 'South Sudan', 'Western Sahara',\n",
              "       'Sao Tome and Principe', 'Yemen', 'Comoros', 'Tajikistan',\n",
              "       'Lesotho'], dtype=object)"
            ]
          },
          "metadata": {
            "tags": []
          },
          "execution_count": 14
        }
      ]
    },
    {
      "cell_type": "code",
      "metadata": {
        "id": "AvtrmAL76fcP",
        "outputId": "9a88bc58-bd7c-438f-b318-becaea709822",
        "colab": {
          "base_uri": "https://localhost:8080/",
          "height": 357
        }
      },
      "source": [
        "# Check all provinces and states\n",
        "\n",
        "dataset['Prov_State'].unique()"
      ],
      "execution_count": null,
      "outputs": [
        {
          "output_type": "execute_result",
          "data": {
            "text/plain": [
              "array([nan, 'Australian Capital Territory', 'New South Wales',\n",
              "       'Northern Territory', 'Queensland', 'South Australia', 'Tasmania',\n",
              "       'Victoria', 'Western Australia', 'Alberta', 'British Columbia',\n",
              "       'Manitoba', 'New Brunswick', 'Newfoundland and Labrador',\n",
              "       'Nova Scotia', 'Ontario', 'Prince Edward Island', 'Quebec',\n",
              "       'Saskatchewan', 'Anhui', 'Beijing', 'Chongqing', 'Fujian', 'Gansu',\n",
              "       'Guangdong', 'Guangxi', 'Guizhou', 'Hainan', 'Hebei',\n",
              "       'Heilongjiang', 'Henan', 'Hong Kong', 'Hubei', 'Hunan',\n",
              "       'Inner Mongolia', 'Jiangsu', 'Jiangxi', 'Jilin', 'Liaoning',\n",
              "       'Macau', 'Ningxia', 'Qinghai', 'Shaanxi', 'Shandong', 'Shanghai',\n",
              "       'Shanxi', 'Sichuan', 'Tianjin', 'Tibet', 'Xinjiang', 'Yunnan',\n",
              "       'Zhejiang', 'Faroe Islands', 'Greenland', 'French Guiana',\n",
              "       'French Polynesia', 'Guadeloupe', 'Mayotte', 'New Caledonia',\n",
              "       'Reunion', 'Saint Barthelemy', 'St Martin', 'Martinique', 'Aruba',\n",
              "       'Curacao', 'Sint Maarten', 'Bermuda', 'Cayman Islands',\n",
              "       'Channel Islands', 'Gibraltar', 'Isle of Man', 'Montserrat',\n",
              "       'Northwest Territories', 'Yukon', 'Anguilla',\n",
              "       'British Virgin Islands', 'Turks and Caicos Islands',\n",
              "       'Falkland Islands (Malvinas)', 'Saint Pierre and Miquelon'],\n",
              "      dtype=object)"
            ]
          },
          "metadata": {
            "tags": []
          },
          "execution_count": 15
        }
      ]
    },
    {
      "cell_type": "markdown",
      "metadata": {
        "id": "9P9gi4ip8g51"
      },
      "source": [
        "# **Filter by country**"
      ]
    },
    {
      "cell_type": "code",
      "metadata": {
        "id": "hUs3rJNMBXeL",
        "outputId": "392aacc1-ad2b-4e0c-a36a-4dcfa49dbbbf",
        "colab": {
          "base_uri": "https://localhost:8080/",
          "height": 419
        }
      },
      "source": [
        "# Select country\n",
        "\n",
        "country = 'Thailand'\n",
        "query = 'Country_Reg == \"' + country + '\"'\n",
        "country_df = dataset.query(query)\n",
        "country_df"
      ],
      "execution_count": null,
      "outputs": [
        {
          "output_type": "execute_result",
          "data": {
            "text/html": [
              "<div>\n",
              "<style scoped>\n",
              "    .dataframe tbody tr th:only-of-type {\n",
              "        vertical-align: middle;\n",
              "    }\n",
              "\n",
              "    .dataframe tbody tr th {\n",
              "        vertical-align: top;\n",
              "    }\n",
              "\n",
              "    .dataframe thead th {\n",
              "        text-align: right;\n",
              "    }\n",
              "</style>\n",
              "<table border=\"1\" class=\"dataframe\">\n",
              "  <thead>\n",
              "    <tr style=\"text-align: right;\">\n",
              "      <th></th>\n",
              "      <th>Prov_State</th>\n",
              "      <th>Country_Reg</th>\n",
              "      <th>Lat</th>\n",
              "      <th>Long</th>\n",
              "      <th>Date</th>\n",
              "      <th>Confirmed</th>\n",
              "      <th>Deaths</th>\n",
              "      <th>Recovered</th>\n",
              "      <th>Active</th>\n",
              "      <th>WHO Region</th>\n",
              "    </tr>\n",
              "  </thead>\n",
              "  <tbody>\n",
              "    <tr>\n",
              "      <th>207</th>\n",
              "      <td>NaN</td>\n",
              "      <td>Thailand</td>\n",
              "      <td>15.870032</td>\n",
              "      <td>100.992541</td>\n",
              "      <td>2020-01-22</td>\n",
              "      <td>2</td>\n",
              "      <td>0</td>\n",
              "      <td>0</td>\n",
              "      <td>2</td>\n",
              "      <td>South-East Asia</td>\n",
              "    </tr>\n",
              "    <tr>\n",
              "      <th>468</th>\n",
              "      <td>NaN</td>\n",
              "      <td>Thailand</td>\n",
              "      <td>15.870032</td>\n",
              "      <td>100.992541</td>\n",
              "      <td>2020-01-23</td>\n",
              "      <td>3</td>\n",
              "      <td>0</td>\n",
              "      <td>0</td>\n",
              "      <td>3</td>\n",
              "      <td>South-East Asia</td>\n",
              "    </tr>\n",
              "    <tr>\n",
              "      <th>729</th>\n",
              "      <td>NaN</td>\n",
              "      <td>Thailand</td>\n",
              "      <td>15.870032</td>\n",
              "      <td>100.992541</td>\n",
              "      <td>2020-01-24</td>\n",
              "      <td>5</td>\n",
              "      <td>0</td>\n",
              "      <td>0</td>\n",
              "      <td>5</td>\n",
              "      <td>South-East Asia</td>\n",
              "    </tr>\n",
              "    <tr>\n",
              "      <th>990</th>\n",
              "      <td>NaN</td>\n",
              "      <td>Thailand</td>\n",
              "      <td>15.870032</td>\n",
              "      <td>100.992541</td>\n",
              "      <td>2020-01-25</td>\n",
              "      <td>7</td>\n",
              "      <td>0</td>\n",
              "      <td>0</td>\n",
              "      <td>7</td>\n",
              "      <td>South-East Asia</td>\n",
              "    </tr>\n",
              "    <tr>\n",
              "      <th>1251</th>\n",
              "      <td>NaN</td>\n",
              "      <td>Thailand</td>\n",
              "      <td>15.870032</td>\n",
              "      <td>100.992541</td>\n",
              "      <td>2020-01-26</td>\n",
              "      <td>8</td>\n",
              "      <td>0</td>\n",
              "      <td>2</td>\n",
              "      <td>6</td>\n",
              "      <td>South-East Asia</td>\n",
              "    </tr>\n",
              "    <tr>\n",
              "      <th>...</th>\n",
              "      <td>...</td>\n",
              "      <td>...</td>\n",
              "      <td>...</td>\n",
              "      <td>...</td>\n",
              "      <td>...</td>\n",
              "      <td>...</td>\n",
              "      <td>...</td>\n",
              "      <td>...</td>\n",
              "      <td>...</td>\n",
              "      <td>...</td>\n",
              "    </tr>\n",
              "    <tr>\n",
              "      <th>47970</th>\n",
              "      <td>NaN</td>\n",
              "      <td>Thailand</td>\n",
              "      <td>15.870032</td>\n",
              "      <td>100.992541</td>\n",
              "      <td>2020-07-23</td>\n",
              "      <td>3279</td>\n",
              "      <td>58</td>\n",
              "      <td>3107</td>\n",
              "      <td>114</td>\n",
              "      <td>South-East Asia</td>\n",
              "    </tr>\n",
              "    <tr>\n",
              "      <th>48231</th>\n",
              "      <td>NaN</td>\n",
              "      <td>Thailand</td>\n",
              "      <td>15.870032</td>\n",
              "      <td>100.992541</td>\n",
              "      <td>2020-07-24</td>\n",
              "      <td>3279</td>\n",
              "      <td>58</td>\n",
              "      <td>3107</td>\n",
              "      <td>114</td>\n",
              "      <td>South-East Asia</td>\n",
              "    </tr>\n",
              "    <tr>\n",
              "      <th>48492</th>\n",
              "      <td>NaN</td>\n",
              "      <td>Thailand</td>\n",
              "      <td>15.870032</td>\n",
              "      <td>100.992541</td>\n",
              "      <td>2020-07-25</td>\n",
              "      <td>3282</td>\n",
              "      <td>58</td>\n",
              "      <td>3109</td>\n",
              "      <td>115</td>\n",
              "      <td>South-East Asia</td>\n",
              "    </tr>\n",
              "    <tr>\n",
              "      <th>48753</th>\n",
              "      <td>NaN</td>\n",
              "      <td>Thailand</td>\n",
              "      <td>15.870032</td>\n",
              "      <td>100.992541</td>\n",
              "      <td>2020-07-26</td>\n",
              "      <td>3291</td>\n",
              "      <td>58</td>\n",
              "      <td>3109</td>\n",
              "      <td>124</td>\n",
              "      <td>South-East Asia</td>\n",
              "    </tr>\n",
              "    <tr>\n",
              "      <th>49014</th>\n",
              "      <td>NaN</td>\n",
              "      <td>Thailand</td>\n",
              "      <td>15.870032</td>\n",
              "      <td>100.992541</td>\n",
              "      <td>2020-07-27</td>\n",
              "      <td>3297</td>\n",
              "      <td>58</td>\n",
              "      <td>3111</td>\n",
              "      <td>128</td>\n",
              "      <td>South-East Asia</td>\n",
              "    </tr>\n",
              "  </tbody>\n",
              "</table>\n",
              "<p>188 rows × 10 columns</p>\n",
              "</div>"
            ],
            "text/plain": [
              "      Prov_State Country_Reg        Lat  ...  Recovered Active       WHO Region\n",
              "207          NaN    Thailand  15.870032  ...          0      2  South-East Asia\n",
              "468          NaN    Thailand  15.870032  ...          0      3  South-East Asia\n",
              "729          NaN    Thailand  15.870032  ...          0      5  South-East Asia\n",
              "990          NaN    Thailand  15.870032  ...          0      7  South-East Asia\n",
              "1251         NaN    Thailand  15.870032  ...          2      6  South-East Asia\n",
              "...          ...         ...        ...  ...        ...    ...              ...\n",
              "47970        NaN    Thailand  15.870032  ...       3107    114  South-East Asia\n",
              "48231        NaN    Thailand  15.870032  ...       3107    114  South-East Asia\n",
              "48492        NaN    Thailand  15.870032  ...       3109    115  South-East Asia\n",
              "48753        NaN    Thailand  15.870032  ...       3109    124  South-East Asia\n",
              "49014        NaN    Thailand  15.870032  ...       3111    128  South-East Asia\n",
              "\n",
              "[188 rows x 10 columns]"
            ]
          },
          "metadata": {
            "tags": []
          },
          "execution_count": 16
        }
      ]
    },
    {
      "cell_type": "code",
      "metadata": {
        "id": "q63Kw7plGA4t",
        "outputId": "db987c96-398a-40fb-f80e-fc43ad6c5272",
        "colab": {
          "base_uri": "https://localhost:8080/",
          "height": 306
        }
      },
      "source": [
        "country_df.info()"
      ],
      "execution_count": null,
      "outputs": [
        {
          "output_type": "stream",
          "text": [
            "<class 'pandas.core.frame.DataFrame'>\n",
            "Int64Index: 188 entries, 207 to 49014\n",
            "Data columns (total 10 columns):\n",
            " #   Column       Non-Null Count  Dtype         \n",
            "---  ------       --------------  -----         \n",
            " 0   Prov_State   0 non-null      object        \n",
            " 1   Country_Reg  188 non-null    object        \n",
            " 2   Lat          188 non-null    float64       \n",
            " 3   Long         188 non-null    float64       \n",
            " 4   Date         188 non-null    datetime64[ns]\n",
            " 5   Confirmed    188 non-null    int64         \n",
            " 6   Deaths       188 non-null    int64         \n",
            " 7   Recovered    188 non-null    int64         \n",
            " 8   Active       188 non-null    int64         \n",
            " 9   WHO Region   188 non-null    object        \n",
            "dtypes: datetime64[ns](1), float64(2), int64(4), object(3)\n",
            "memory usage: 16.2+ KB\n"
          ],
          "name": "stdout"
        }
      ]
    },
    {
      "cell_type": "code",
      "metadata": {
        "id": "7kJs0tv793t_"
      },
      "source": [
        "# Replace index with datetime\n",
        "country_df = country_df.set_index('Date')\n",
        "\n",
        "# Filter important columns\n",
        "cols = ['Confirmed', 'Deaths', 'Recovered', 'Active']\n",
        "country_df = country_df.filter(items=cols, axis=1)"
      ],
      "execution_count": null,
      "outputs": []
    },
    {
      "cell_type": "code",
      "metadata": {
        "id": "aSFf5hO0-NY6",
        "outputId": "dc1c3c7d-4f5c-4e85-8c29-c371a1631481",
        "colab": {
          "base_uri": "https://localhost:8080/",
          "height": 450
        }
      },
      "source": [
        "country_df"
      ],
      "execution_count": null,
      "outputs": [
        {
          "output_type": "execute_result",
          "data": {
            "text/html": [
              "<div>\n",
              "<style scoped>\n",
              "    .dataframe tbody tr th:only-of-type {\n",
              "        vertical-align: middle;\n",
              "    }\n",
              "\n",
              "    .dataframe tbody tr th {\n",
              "        vertical-align: top;\n",
              "    }\n",
              "\n",
              "    .dataframe thead th {\n",
              "        text-align: right;\n",
              "    }\n",
              "</style>\n",
              "<table border=\"1\" class=\"dataframe\">\n",
              "  <thead>\n",
              "    <tr style=\"text-align: right;\">\n",
              "      <th></th>\n",
              "      <th>Confirmed</th>\n",
              "      <th>Deaths</th>\n",
              "      <th>Recovered</th>\n",
              "      <th>Active</th>\n",
              "    </tr>\n",
              "    <tr>\n",
              "      <th>Date</th>\n",
              "      <th></th>\n",
              "      <th></th>\n",
              "      <th></th>\n",
              "      <th></th>\n",
              "    </tr>\n",
              "  </thead>\n",
              "  <tbody>\n",
              "    <tr>\n",
              "      <th>2020-01-22</th>\n",
              "      <td>2</td>\n",
              "      <td>0</td>\n",
              "      <td>0</td>\n",
              "      <td>2</td>\n",
              "    </tr>\n",
              "    <tr>\n",
              "      <th>2020-01-23</th>\n",
              "      <td>3</td>\n",
              "      <td>0</td>\n",
              "      <td>0</td>\n",
              "      <td>3</td>\n",
              "    </tr>\n",
              "    <tr>\n",
              "      <th>2020-01-24</th>\n",
              "      <td>5</td>\n",
              "      <td>0</td>\n",
              "      <td>0</td>\n",
              "      <td>5</td>\n",
              "    </tr>\n",
              "    <tr>\n",
              "      <th>2020-01-25</th>\n",
              "      <td>7</td>\n",
              "      <td>0</td>\n",
              "      <td>0</td>\n",
              "      <td>7</td>\n",
              "    </tr>\n",
              "    <tr>\n",
              "      <th>2020-01-26</th>\n",
              "      <td>8</td>\n",
              "      <td>0</td>\n",
              "      <td>2</td>\n",
              "      <td>6</td>\n",
              "    </tr>\n",
              "    <tr>\n",
              "      <th>...</th>\n",
              "      <td>...</td>\n",
              "      <td>...</td>\n",
              "      <td>...</td>\n",
              "      <td>...</td>\n",
              "    </tr>\n",
              "    <tr>\n",
              "      <th>2020-07-23</th>\n",
              "      <td>3279</td>\n",
              "      <td>58</td>\n",
              "      <td>3107</td>\n",
              "      <td>114</td>\n",
              "    </tr>\n",
              "    <tr>\n",
              "      <th>2020-07-24</th>\n",
              "      <td>3279</td>\n",
              "      <td>58</td>\n",
              "      <td>3107</td>\n",
              "      <td>114</td>\n",
              "    </tr>\n",
              "    <tr>\n",
              "      <th>2020-07-25</th>\n",
              "      <td>3282</td>\n",
              "      <td>58</td>\n",
              "      <td>3109</td>\n",
              "      <td>115</td>\n",
              "    </tr>\n",
              "    <tr>\n",
              "      <th>2020-07-26</th>\n",
              "      <td>3291</td>\n",
              "      <td>58</td>\n",
              "      <td>3109</td>\n",
              "      <td>124</td>\n",
              "    </tr>\n",
              "    <tr>\n",
              "      <th>2020-07-27</th>\n",
              "      <td>3297</td>\n",
              "      <td>58</td>\n",
              "      <td>3111</td>\n",
              "      <td>128</td>\n",
              "    </tr>\n",
              "  </tbody>\n",
              "</table>\n",
              "<p>188 rows × 4 columns</p>\n",
              "</div>"
            ],
            "text/plain": [
              "            Confirmed  Deaths  Recovered  Active\n",
              "Date                                            \n",
              "2020-01-22          2       0          0       2\n",
              "2020-01-23          3       0          0       3\n",
              "2020-01-24          5       0          0       5\n",
              "2020-01-25          7       0          0       7\n",
              "2020-01-26          8       0          2       6\n",
              "...               ...     ...        ...     ...\n",
              "2020-07-23       3279      58       3107     114\n",
              "2020-07-24       3279      58       3107     114\n",
              "2020-07-25       3282      58       3109     115\n",
              "2020-07-26       3291      58       3109     124\n",
              "2020-07-27       3297      58       3111     128\n",
              "\n",
              "[188 rows x 4 columns]"
            ]
          },
          "metadata": {
            "tags": []
          },
          "execution_count": 19
        }
      ]
    },
    {
      "cell_type": "code",
      "metadata": {
        "id": "vvuGtWXR-9fz",
        "outputId": "77cb07fd-6fc7-4ee0-ff81-7cd88c396823",
        "colab": {
          "base_uri": "https://localhost:8080/",
          "height": 307
        }
      },
      "source": [
        "# Plot country dataset\n",
        "\n",
        "country_df.plot(grid=True)\n",
        "plt.title(country)\n",
        "plt.show()"
      ],
      "execution_count": null,
      "outputs": [
        {
          "output_type": "display_data",
          "data": {
            "image/png": "[encoded data removed]",
            "text/plain": [
              "<Figure size 432x288 with 1 Axes>"
            ]
          },
          "metadata": {
            "tags": [],
            "needs_background": "light"
          }
        }
      ]
    },
    {
      "cell_type": "code",
      "metadata": {
        "id": "cXqddHjki4pa"
      },
      "source": [
        "# Save to csv file\n",
        "\n",
        "save_path = country.lower()+\"_covid_19_cases.csv\"\n",
        "country_df.to_csv(save_path)"
      ],
      "execution_count": null,
      "outputs": []
    },
    {
      "cell_type": "markdown",
      "metadata": {
        "id": "Y9PdaF9TPJwO"
      },
      "source": [
        "# **Filter by case type**"
      ]
    },
    {
      "cell_type": "code",
      "metadata": {
        "id": "Fqi1rrmpPa0b"
      },
      "source": [
        "# Select case type\n",
        "\n",
        "case_type = 'Confirmed'\n",
        "case_type_df = country_df[case_type]"
      ],
      "execution_count": null,
      "outputs": []
    },
    {
      "cell_type": "code",
      "metadata": {
        "id": "AMndl3_x8O_4",
        "outputId": "cb93a0cf-3448-4c01-8be8-e8d4c5f9058b",
        "colab": {
          "base_uri": "https://localhost:8080/",
          "height": 238
        }
      },
      "source": [
        "case_type_df"
      ],
      "execution_count": null,
      "outputs": [
        {
          "output_type": "execute_result",
          "data": {
            "text/plain": [
              "Date\n",
              "2020-01-22       2\n",
              "2020-01-23       3\n",
              "2020-01-24       5\n",
              "2020-01-25       7\n",
              "2020-01-26       8\n",
              "              ... \n",
              "2020-07-23    3279\n",
              "2020-07-24    3279\n",
              "2020-07-25    3282\n",
              "2020-07-26    3291\n",
              "2020-07-27    3297\n",
              "Name: Confirmed, Length: 188, dtype: int64"
            ]
          },
          "metadata": {
            "tags": []
          },
          "execution_count": 29
        }
      ]
    },
    {
      "cell_type": "code",
      "metadata": {
        "id": "OdE5awVK7yty",
        "outputId": "db643dd9-0a50-477f-e477-3787c7ac6a31",
        "colab": {
          "base_uri": "https://localhost:8080/",
          "height": 291
        }
      },
      "source": [
        "# Plot case type dataset\n",
        "\n",
        "case_type_df.plot(grid=True)\n",
        "plt.show()"
      ],
      "execution_count": null,
      "outputs": [
        {
          "output_type": "display_data",
          "data": {
            "image/png": "[encoded data removed]",
            "text/plain": [
              "<Figure size 432x288 with 1 Axes>"
            ]
          },
          "metadata": {
            "tags": [],
            "needs_background": "light"
          }
        }
      ]
    },
    {
      "cell_type": "code",
      "metadata": {
        "id": "_cCpznzHAhJY"
      },
      "source": [
        "# Save to csv file\n",
        "\n",
        "save_path = country.lower()+\"_covid_19_\"+case_type.lower()+\"_cases.csv\"\n",
        "case_type_df.to_csv(save_path)"
      ],
      "execution_count": null,
      "outputs": []
    }
  ]
}